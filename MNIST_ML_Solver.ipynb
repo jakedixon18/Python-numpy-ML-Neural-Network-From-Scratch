{
 "cells": [
  {
   "cell_type": "code",
   "execution_count": 511,
   "id": "178fd377-95e9-4f79-bc2d-4187a04bf331",
   "metadata": {},
   "outputs": [],
   "source": [
    "import numpy as np\n",
    "import matplotlib.pyplot as plt\n",
    "import time"
   ]
  },
  {
   "cell_type": "code",
   "execution_count": 512,
   "id": "d3813827-0e41-47ec-9dff-3d1343978b7f",
   "metadata": {},
   "outputs": [],
   "source": [
    "# Load in training data\n",
    "#https://ml-cheatsheet.readthedocs.io/en/latest/datasets.html <- MNIST data found through here\n",
    "data_train = pd.read_csv('mnist_train.csv')\n",
    "data_test = pd.read_csv('mnist_test.csv')\n",
    "\n",
    "# Convert training data to numpy array and shuffle\n",
    "train = np.array(data_train)\n",
    "np.random.shuffle(train)\n",
    "m, n = train.shape\n",
    "\n",
    "# Convert test data to numpy array and shuffle\n",
    "test = np.array(data_test)\n",
    "np.random.shuffle(test)"
   ]
  },
  {
   "cell_type": "code",
   "execution_count": 513,
   "id": "53877561-219e-490a-8d99-46e47fd338af",
   "metadata": {},
   "outputs": [],
   "source": [
    "# Transpose training data and break off the solution Y values from the inputs\n",
    "train = train.T\n",
    "train_Y = train[0]\n",
    "train_X = train[1:n] / 255\n",
    "\n",
    "# Transpose test data and break off the solution Y values from the inputs\n",
    "test = test.T\n",
    "test_Y = test[0]\n",
    "test_X = test[1:n] / 255\n",
    "\n",
    "# Define the size of the input layer\n",
    "input_size = train_X.shape[0]"
   ]
  },
  {
   "cell_type": "code",
   "execution_count": 514,
   "id": "802dda60-a12f-46b9-b336-f6e14e39b164",
   "metadata": {},
   "outputs": [],
   "source": [
    "def initialize_parameters(input_size, layer_1, layer_2):\n",
    "    w1 = np.random.randn(layer_1, input_size) * np.sqrt(2. / input_size)\n",
    "    b1 = np.full((layer_1, 1), 0.1)\n",
    "    w2 = np.random.randn(layer_2, layer_1) * np.sqrt(2. / layer_1)\n",
    "    b2 = np.full((layer_2, 1), 0.1)\n",
    "    wo = np.random.randn(10, layer_2) * np.sqrt(2. / layer_2)\n",
    "    bo = np.full((10, 1), 0.1)\n",
    "    return w1, b1, w2, b2, wo, bo"
   ]
  },
  {
   "cell_type": "code",
   "execution_count": 515,
   "id": "998171a6-90bb-4b6a-b9f5-40a4bde012ab",
   "metadata": {},
   "outputs": [],
   "source": [
    "def ReLU(z):\n",
    "    return np.maximum(0.01 * z, z)\n",
    "\n",
    "def ReLU_prime(z):\n",
    "    return np.where(z > 0, 1.0, 0.01)\n",
    "\n",
    "def softmax(z):\n",
    "    z_stable = z - np.max(z, axis=0, keepdims=True)  # for numerical stability\n",
    "    exp_z = np.exp(z_stable)\n",
    "    return exp_z / np.sum(exp_z, axis=0, keepdims=True)"
   ]
  },
  {
   "cell_type": "code",
   "execution_count": 516,
   "id": "0a7be43f-9c01-43f9-b50b-e0bff4a14ffb",
   "metadata": {},
   "outputs": [],
   "source": [
    "def forward_propagation(w1, b1, w2, b2, wo, bo, X):\n",
    "    z1 = w1 @ X + b1\n",
    "    h1 = ReLU(z1)\n",
    "    z2 = w2 @ h1 + b2\n",
    "    h2 = ReLU(z2)\n",
    "    zo = wo @ h2 + bo\n",
    "    y_hat = softmax(zo)\n",
    "    return z1, h1, z2, h2, zo, y_hat"
   ]
  },
  {
   "cell_type": "code",
   "execution_count": 517,
   "id": "23d371cc-1783-460c-9fac-857aa8301703",
   "metadata": {},
   "outputs": [],
   "source": [
    "def one_hot_encoder(Y):\n",
    "    num_classes = Y.max() + 1\n",
    "    one_hot_Y = np.eye(num_classes)[Y].T\n",
    "    return one_hot_Y"
   ]
  },
  {
   "cell_type": "code",
   "execution_count": 518,
   "id": "a6af68e1-0e34-470c-81b4-0981f191317a",
   "metadata": {},
   "outputs": [],
   "source": [
    "def cross_entropy_loss(y_hat, y_true):\n",
    "    epsilon = 1e-12\n",
    "    y_hat = np.clip(y_hat, epsilon, 1. - epsilon)\n",
    "    loss = -np.sum(y_true * np.log(y_hat)) / y_true.shape[1]\n",
    "    return loss"
   ]
  },
  {
   "cell_type": "code",
   "execution_count": 519,
   "id": "ce21fd9f-5447-4e80-9c82-1266808d8d21",
   "metadata": {},
   "outputs": [],
   "source": [
    "def back_propagation(z1, h1, z2, h2, zo, y_hat, w1, w2, wo, X, Y):\n",
    "    one_hot_Y = one_hot_encoder(Y)\n",
    "    \n",
    "    # Output layer error\n",
    "    dzo = y_hat - one_hot_Y\n",
    "    dwo = (1 / m) * (dzo @ h2.T)\n",
    "    dbo = (1 / m) * np.sum(dzo, axis=1, keepdims=True)\n",
    "\n",
    "    # Second hidden layer error\n",
    "    dz2 = (wo.T @ dzo) * ReLU_prime(z2)\n",
    "    dw2 = (1 / m) * (dz2 @ h1.T)\n",
    "    db2 = (1 / m) * np.sum(dz2, axis=1, keepdims=True)\n",
    "\n",
    "    # First hidden layer error\n",
    "    dz1 = (w2.T @ dz2) * ReLU_prime(z1)\n",
    "    dw1 = (1 / m) * (dz1 @ X.T)\n",
    "    db1 = (1 / m) * np.sum(dz1, axis=1, keepdims=True)\n",
    "    \n",
    "    return dw1, db1, dw2, db2, dwo, dbo"
   ]
  },
  {
   "cell_type": "code",
   "execution_count": 520,
   "id": "5deb1ab9-feb7-413c-b33d-7a59965c013e",
   "metadata": {},
   "outputs": [],
   "source": [
    "def update_parameters(w1, b1, w2, b2, wo, bo, dw1, db1, dw2, db2, dwo, dbo, alpha):\n",
    "    w1 = w1 - alpha * dw1\n",
    "    b1 = b1 - alpha * db1\n",
    "    w2 = w2 - alpha * dw2\n",
    "    b2 = b2 - alpha * db2\n",
    "    wo = wo - alpha * dwo\n",
    "    bo = bo - alpha * dbo   \n",
    "    return w1, b1, w2, b2, wo, bo"
   ]
  },
  {
   "cell_type": "code",
   "execution_count": 521,
   "id": "ed44caff-c083-4cc8-ad88-eabf0e9f9b9d",
   "metadata": {},
   "outputs": [],
   "source": [
    "def get_predictions(y_hat):\n",
    "    return np.argmax(y_hat, 0)\n",
    "\n",
    "def get_accuracy(predictions, Y):\n",
    "    return np.sum(predictions == Y) / Y.size"
   ]
  },
  {
   "cell_type": "code",
   "execution_count": 522,
   "id": "c05be96b-d3a2-4353-a9cd-a3f8a60aeb75",
   "metadata": {},
   "outputs": [],
   "source": [
    "def gradient_descent_optimization(X, Y, alpha_initial, epochs=None):\n",
    "    print()\n",
    "    decay = 0.01  # decay rate for alpha over time\n",
    "    input_size = X.shape[0]\n",
    "    #layer_1 = int(input(\"Enter neuron depth in layer 1: \"))\n",
    "    #layer_2 = int(input(\"Enter neuron depth in layer 2: \"))\n",
    "    layer_1, layer_2 = 256, 64\n",
    "    trial_epochs = 25\n",
    "\n",
    "    def train_loop(epochs_to_run, verbose=True, max_time_sec=None):\n",
    "        # Initialize weights and logs\n",
    "        w1, b1, w2, b2, wo, bo = initialize_parameters(input_size, layer_1, layer_2)\n",
    "        EPOCH = []\n",
    "        ACCURACY = []\n",
    "        LOSS = []\n",
    "        y_true = one_hot_encoder(Y)\n",
    "\n",
    "        start_time = time.time()\n",
    "\n",
    "        for epoch in range(epochs_to_run):\n",
    "            alpha = alpha_initial / (1 + decay * epoch)\n",
    "            z1, h1, z2, h2, zo, y_hat = forward_propagation(w1, b1, w2, b2, wo, bo, X)\n",
    "            loss = cross_entropy_loss(y_hat, y_true)\n",
    "            dw1, db1, dw2, db2, dwo, dbo = back_propagation(z1, h1, z2, h2, zo, y_hat, w1, w2, wo, X, Y)\n",
    "            w1, b1, w2, b2, wo, bo = update_parameters(w1, b1, w2, b2, wo, bo, dw1, db1, dw2, db2, dwo, dbo, alpha)\n",
    "\n",
    "            if epoch == 0 and verbose:\n",
    "                print(f\"{'Epoch':<10}{'Accuracy(%)':<15}{'Loss':<10}{'Alpha':<10}\")\n",
    "            if epoch % 50 == 0 and verbose:\n",
    "                predictions = get_predictions(y_hat)\n",
    "                accuracy = get_accuracy(predictions, Y)\n",
    "                print(f\"{epoch:<10}{accuracy*100:<15.2f}{loss:<10.4f}{alpha:<10.4f}\")\n",
    "            if epoch % 10 == 0:\n",
    "                predictions = get_predictions(y_hat)\n",
    "                accuracy = get_accuracy(predictions, Y)\n",
    "                EPOCH.append(epoch)\n",
    "                ACCURACY.append(accuracy * 100)\n",
    "                LOSS.append(loss)\n",
    "\n",
    "            # Check elapsed time to avoid overshooting requested training time\n",
    "            if max_time_sec is not None:\n",
    "                elapsed = time.time() - start_time\n",
    "                if elapsed >= max_time_sec * 1.05:\n",
    "                    if verbose:\n",
    "                        print(f\"\\nStopping early at epoch {epoch} to respect time limit...\")\n",
    "                    break\n",
    "\n",
    "        end_time = time.time()\n",
    "        elapsed_time = int(end_time - start_time)\n",
    "\n",
    "        return w1, b1, w2, b2, wo, bo, elapsed_time, EPOCH, ACCURACY, LOSS\n",
    "\n",
    "    # --- If epoch count is NOT given ---\n",
    "    if epochs is None:\n",
    "        while True:\n",
    "            try:\n",
    "                minutes_input = float(input(\"Enter desired training time in minutes: \").strip())\n",
    "                if minutes_input <= 0:\n",
    "                    print(\"Please enter a positive number.\")\n",
    "                    continue\n",
    "                break\n",
    "            except ValueError:\n",
    "                print(\"Invalid input. Please enter a number.\")\n",
    "\n",
    "        total_time_sec = minutes_input * 60\n",
    "        print()\n",
    "        print(f\"Running a trial of {trial_epochs} epochs to estimate training speed...\")\n",
    "\n",
    "        # Run trial without verbose output\n",
    "        _, _, _, _, _, _, trial_time, *_ = train_loop(trial_epochs, verbose=False)\n",
    "\n",
    "        time_per_epoch = trial_time / trial_epochs\n",
    "        buffer_factor = 0.95  # Buffer to avoid overshooting time\n",
    "        adjusted_time = total_time_sec * buffer_factor\n",
    "        estimated_epochs = max(1, int(adjusted_time // time_per_epoch))\n",
    "        \n",
    "        print(f\"Estimated time per epoch: {time_per_epoch:.2f} seconds\")\n",
    "        print()\n",
    "        print(f\"Setting total epochs to {estimated_epochs} to fit within {minutes_input} minutes.\\n\")\n",
    "\n",
    "        # Final training with elapsed time check\n",
    "        w1, b1, w2, b2, wo, bo, final_time, EPOCH, ACCURACY, LOSS = train_loop(\n",
    "            estimated_epochs, verbose=True, max_time_sec=adjusted_time\n",
    "        )\n",
    "\n",
    "    else:\n",
    "        # Run directly for specified number of epochs, no time limit\n",
    "        w1, b1, w2, b2, wo, bo, final_time, EPOCH, ACCURACY, LOSS = train_loop(epochs, verbose=True)\n",
    "\n",
    "    # --- Display total training time ---\n",
    "    hours = final_time // 3600\n",
    "    minutes = (final_time % 3600) // 60\n",
    "    seconds = final_time % 60\n",
    "    print(f\"\\nTotal training time: {hours:02d}:{minutes:02d}:{seconds:02d}\\n\")\n",
    "\n",
    "    # --- Plot at the END only ---\n",
    "    fig, ax1 = plt.subplots(figsize=(10, 5))\n",
    "    color1 = 'tab:blue'\n",
    "    ax1.set_xlabel('Epoch')\n",
    "    ax1.set_ylabel('Accuracy (%)', color=color1)\n",
    "    ax1.plot(EPOCH, ACCURACY, color=color1, label='Accuracy')\n",
    "    ax1.tick_params(axis='y', labelcolor=color1)\n",
    "    ax1.grid(True)\n",
    "\n",
    "    ax2 = ax1.twinx()\n",
    "    color2 = 'tab:red'\n",
    "    ax2.set_ylabel('Loss', color=color2)\n",
    "    ax2.plot(EPOCH, LOSS, color=color2, label='Loss')\n",
    "    ax2.tick_params(axis='y', labelcolor=color2)\n",
    "\n",
    "    plt.title(\"Training Accuracy and Loss vs Epoch\")\n",
    "    fig.tight_layout()\n",
    "    plt.show()\n",
    "\n",
    "    return w1, b1, w2, b2, wo, bo, final_time"
   ]
  },
  {
   "cell_type": "code",
   "execution_count": 523,
   "id": "ab7c0457-d29c-4727-8aba-d7323d250150",
   "metadata": {},
   "outputs": [],
   "source": [
    "def make_predictions(X, w1, b1, w2, b2, wo, bo):\n",
    "    _, _, _, _, _, y_hat = forward_propagation(w1, b1, w2, b2, wo, bo, X)\n",
    "    predictions = get_predictions(y_hat)\n",
    "    return predictions"
   ]
  },
  {
   "cell_type": "markdown",
   "id": "b13dc119-213d-481d-a7c3-86b101a067c5",
   "metadata": {},
   "source": [
    "### Run the neural network below and test its accuracy."
   ]
  },
  {
   "cell_type": "code",
   "execution_count": 510,
   "id": "1678f83e-dd4b-472e-a198-a888d87b6efc",
   "metadata": {},
   "outputs": [
    {
     "name": "stdout",
     "output_type": "stream",
     "text": [
      "\n"
     ]
    },
    {
     "name": "stdin",
     "output_type": "stream",
     "text": [
      "Enter desired training time in minutes:  10\n"
     ]
    },
    {
     "name": "stdout",
     "output_type": "stream",
     "text": [
      "\n",
      "Running a trial of 25 epochs to estimate training speed...\n",
      "Estimated time per epoch: 1.08 seconds\n",
      "\n",
      "Setting total epochs to 527 to fit within 10.0 minutes.\n",
      "\n",
      "Epoch     Accuracy(%)    Loss      Alpha     \n",
      "0         9.76           2.3405    0.2500    \n",
      "50        89.12          0.3868    0.1667    \n",
      "100       91.19          0.3097    0.1250    \n",
      "150       92.05          0.2792    0.1000    \n",
      "200       92.57          0.2607    0.0833    \n",
      "250       92.90          0.2477    0.0714    \n",
      "300       93.15          0.2378    0.0625    \n",
      "350       93.41          0.2299    0.0556    \n",
      "400       93.61          0.2233    0.0500    \n",
      "450       93.78          0.2178    0.0455    \n",
      "500       93.94          0.2130    0.0417    \n",
      "\n",
      "Total training time: 00:09:48\n",
      "\n"
     ]
    },
    {
     "data": {
      "image/png": "[encoded data removed]",
      "text/plain": [
       "<Figure size 1000x500 with 2 Axes>"
      ]
     },
     "metadata": {},
     "output_type": "display_data"
    },
    {
     "name": "stdout",
     "output_type": "stream",
     "text": [
      "Test set accuracy: 93.87 %\n"
     ]
    }
   ],
   "source": [
    "# Run gradient decent learning\n",
    "w1, b1, w2, b2, wo, bo, _ = gradient_descent_optimization(train_X, train_Y, 0.25, epochs=None)\n",
    "\n",
    "# Get the accuracy of the model compared to an un-seen test set\n",
    "accuracy = get_accuracy(make_predictions(test_X, w1, b1, w2, b2, wo, bo), test_Y) * 100\n",
    "print(f\"Test set accuracy: {accuracy:.2f} %\")"
   ]
  },
  {
   "cell_type": "code",
   "execution_count": null,
   "id": "4f6de506-4b79-4b83-ba5b-126c721fed20",
   "metadata": {},
   "outputs": [],
   "source": []
  }
 ],
 "metadata": {
  "kernelspec": {
   "display_name": "Python 3 (ipykernel)",
   "language": "python",
   "name": "python3"
  },
  "language_info": {
   "codemirror_mode": {
    "name": "ipython",
    "version": 3
   },
   "file_extension": ".py",
   "mimetype": "text/x-python",
   "name": "python",
   "nbconvert_exporter": "python",
   "pygments_lexer": "ipython3",
   "version": "3.13.5"
  }
 },
 "nbformat": 4,
 "nbformat_minor": 5
}
